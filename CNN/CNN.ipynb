{
 "cells": [
  {
   "cell_type": "code",
   "execution_count": 5,
   "metadata": {},
   "outputs": [
    {
     "name": "stdout",
     "output_type": "stream",
     "text": [
      "Configuring CNN model...\n",
      "Configuring TensorBoard and Saver...\n",
      "Loading training and validation data...\n",
      "Time usage: 0:00:03\n",
      "Training and evaluating...\n",
      "Epoch: 1\n",
      "Iter:      0, Train Loss:    1.1, Train Acc:  25.00%, Val Loss:    1.1, Val Acc:  26.40%, Time: 0:00:07 *\n",
      "Iter:    100, Train Loss:    0.8, Train Acc:  59.38%, Val Loss:   0.71, Val Acc:  68.83%, Time: 0:00:47 *\n",
      "Iter:    200, Train Loss:    0.8, Train Acc:  70.31%, Val Loss:   0.62, Val Acc:  74.20%, Time: 0:01:26 *\n",
      "Epoch: 2\n",
      "Iter:    300, Train Loss:   0.48, Train Acc:  76.56%, Val Loss:   0.62, Val Acc:  73.44%, Time: 0:02:05 \n",
      "Iter:    400, Train Loss:   0.52, Train Acc:  79.69%, Val Loss:    0.6, Val Acc:  75.87%, Time: 0:02:44 *\n",
      "Epoch: 3\n",
      "Iter:    500, Train Loss:   0.43, Train Acc:  82.81%, Val Loss:   0.63, Val Acc:  75.87%, Time: 0:03:23 *\n",
      "Iter:    600, Train Loss:   0.42, Train Acc:  87.50%, Val Loss:   0.62, Val Acc:  75.38%, Time: 0:04:02 \n",
      "Epoch: 4\n",
      "Iter:    700, Train Loss:   0.29, Train Acc:  90.62%, Val Loss:    0.6, Val Acc:  76.06%, Time: 0:04:42 *\n",
      "Iter:    800, Train Loss:   0.34, Train Acc:  85.94%, Val Loss:   0.68, Val Acc:  75.19%, Time: 0:05:21 \n",
      "Iter:    900, Train Loss:   0.31, Train Acc:  84.38%, Val Loss:   0.69, Val Acc:  74.51%, Time: 0:05:59 \n"
     ]
    }
   ],
   "source": [
    "%run run_cnn.py train"
   ]
  },
  {
   "cell_type": "code",
   "execution_count": null,
   "metadata": {},
   "outputs": [],
   "source": []
  }
 ],
 "metadata": {
  "kernelspec": {
   "display_name": "Python (pytorch)",
   "language": "python",
   "name": "pytorch"
  },
  "language_info": {
   "codemirror_mode": {
    "name": "ipython",
    "version": 3
   },
   "file_extension": ".py",
   "mimetype": "text/x-python",
   "name": "python",
   "nbconvert_exporter": "python",
   "pygments_lexer": "ipython3",
   "version": "3.7.3"
  }
 },
 "nbformat": 4,
 "nbformat_minor": 4
}
